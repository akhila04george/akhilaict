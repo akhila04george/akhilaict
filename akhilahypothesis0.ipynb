{
  "nbformat": 4,
  "nbformat_minor": 0,
  "metadata": {
    "colab": {
      "provenance": []
    },
    "kernelspec": {
      "name": "python3",
      "display_name": "Python 3"
    },
    "language_info": {
      "name": "python"
    }
  },
  "cells": [
    {
      "cell_type": "code",
      "execution_count": 1,
      "metadata": {
        "id": "GeyAwjp0vdNE"
      },
      "outputs": [],
      "source": [
        "import numpy as np\n",
        "import pandas as pd"
      ]
    },
    {
      "cell_type": "code",
      "source": [
        "data= pd.read_csv('Sales_add.csv')\n"
      ],
      "metadata": {
        "id": "j79v3VZFv_pf"
      },
      "execution_count": 4,
      "outputs": []
    },
    {
      "cell_type": "code",
      "source": [
        "data.head()\n"
      ],
      "metadata": {
        "id": "au4IkyM2wc-_"
      },
      "execution_count": null,
      "outputs": []
    },
    {
      "cell_type": "code",
      "source": [
        "data.shape\n"
      ],
      "metadata": {
        "id": "roBDUTsAwfyB"
      },
      "execution_count": null,
      "outputs": []
    },
    {
      "cell_type": "code",
      "source": [
        "data.info()\n"
      ],
      "metadata": {
        "colab": {
          "base_uri": "https://localhost:8080/"
        },
        "id": "msw-NDKswkJf",
        "outputId": "907c3961-d053-47c5-f1ee-f53adc49837f"
      },
      "execution_count": 9,
      "outputs": [
        {
          "output_type": "stream",
          "name": "stdout",
          "text": [
            "<class 'pandas.core.frame.DataFrame'>\n",
            "RangeIndex: 22 entries, 0 to 21\n",
            "Data columns (total 5 columns):\n",
            " #   Column                          Non-Null Count  Dtype \n",
            "---  ------                          --------------  ----- \n",
            " 0   Month                           22 non-null     object\n",
            " 1   Region                          22 non-null     object\n",
            " 2   Manager                         22 non-null     object\n",
            " 3   Sales_before_digital_add(in $)  22 non-null     int64 \n",
            " 4   Sales_After_digital_add(in $)   22 non-null     int64 \n",
            "dtypes: int64(2), object(3)\n",
            "memory usage: 1008.0+ bytes\n"
          ]
        }
      ]
    },
    {
      "cell_type": "markdown",
      "source": [
        "Whether there is any increase in sales after stepping into digital marketing"
      ],
      "metadata": {
        "id": "eQAJyL-PxQkM"
      }
    },
    {
      "cell_type": "code",
      "source": [
        "#increase in sales after stepping into digital marketting? Use t test as low value of n.\n",
        "#Sales is continuous, not categorical, therefore not chisquare test appropriate\n",
        "from scipy.stats import ttest_ind\n",
        "t_stat, p_value= ttest_ind(data['Sales_before_digital_add(in $)'], data['Sales_After_digital_add(in $)'])"
      ],
      "metadata": {
        "id": "fCxTCMNGwmwS"
      },
      "execution_count": 5,
      "outputs": []
    },
    {
      "cell_type": "code",
      "source": [
        "#print values\n",
        "print('T-statistic:', t_stat)\n",
        "print('P-value:', p_value)"
      ],
      "metadata": {
        "colab": {
          "base_uri": "https://localhost:8080/"
        },
        "id": "GpnJVSj8w0nG",
        "outputId": "1d091bad-03d3-4446-c20a-c879cbb36a46"
      },
      "execution_count": 6,
      "outputs": [
        {
          "output_type": "stream",
          "name": "stdout",
          "text": [
            "T-statistic: -12.995084451110875\n",
            "P-value: 2.614368006904645e-16\n"
          ]
        }
      ]
    },
    {
      "cell_type": "code",
      "source": [
        "#any difference?\n",
        "if p_value < 0.05:\n",
        "    print('''There is a significant difference in\n",
        "          sales between digital marketing and no digital marketing.''')\n",
        "else:\n",
        "    print('''There is no significant difference in sales between\n",
        "    digital marketing and no digital marketing.''')"
      ],
      "metadata": {
        "colab": {
          "base_uri": "https://localhost:8080/"
        },
        "id": "k8eqis26w3uM",
        "outputId": "86073bf6-4ae0-4008-c964-21f59cbdf725"
      },
      "execution_count": 7,
      "outputs": [
        {
          "output_type": "stream",
          "name": "stdout",
          "text": [
            "There is a significant difference in \n",
            "          sales between digital marketing and no digital marketing.\n"
          ]
        }
      ]
    },
    {
      "cell_type": "code",
      "source": [
        "#increase or decrease?\n",
        "print('mean before digital=', data['Sales_before_digital_add(in $)'].mean())\n",
        "print('mean after digital=', data['Sales_After_digital_add(in $)'].mean())\n"
      ],
      "metadata": {
        "colab": {
          "base_uri": "https://localhost:8080/"
        },
        "id": "TWJtW_f1xCs_",
        "outputId": "31b962d2-dfcb-4b5a-d805-1b54826dd869"
      },
      "execution_count": 8,
      "outputs": [
        {
          "output_type": "stream",
          "name": "stdout",
          "text": [
            "mean before digital= 149239.95454545456\n",
            "mean after digital= 231123.72727272726\n"
          ]
        }
      ]
    },
    {
      "cell_type": "code",
      "source": [],
      "metadata": {
        "id": "omP5xRW2xGex"
      },
      "execution_count": null,
      "outputs": []
    },
    {
      "cell_type": "markdown",
      "source": [
        "Whether there is any dependency between the features “Region” and “Manager”."
      ],
      "metadata": {
        "id": "1GCSPyeexKXQ"
      }
    },
    {
      "cell_type": "code",
      "source": [
        "# region and manager are categorical data, therefore chisquare test\n",
        "# use chisquare test for contingency, so create contingency table\n",
        "from scipy.stats import chi2_contingency"
      ],
      "metadata": {
        "id": "KknfF8K_xN-4"
      },
      "execution_count": 10,
      "outputs": []
    },
    {
      "cell_type": "code",
      "source": [
        "#pd.crosstab\n",
        "cont_table= pd.crosstab(data['Region'], data['Manager'])\n"
      ],
      "metadata": {
        "id": "_FfawJMexer4"
      },
      "execution_count": 11,
      "outputs": []
    },
    {
      "cell_type": "code",
      "source": [
        "chi_stat, p_value, dof, exp= chi2_contingency(cont_table)\n"
      ],
      "metadata": {
        "id": "7Fa-YnBcxlr8"
      },
      "execution_count": 12,
      "outputs": []
    },
    {
      "cell_type": "code",
      "source": [
        "print('Chi-square statistic:', chi_stat)\n",
        "print('P-value:', p_value)\n"
      ],
      "metadata": {
        "colab": {
          "base_uri": "https://localhost:8080/"
        },
        "id": "yBTtzR6MxmmQ",
        "outputId": "e56733ee-348b-43c4-b242-6ed735891ef4"
      },
      "execution_count": 13,
      "outputs": [
        {
          "output_type": "stream",
          "name": "stdout",
          "text": [
            "Chi-square statistic: 3.050566893424036\n",
            "P-value: 0.5493991051158094\n"
          ]
        }
      ]
    },
    {
      "cell_type": "code",
      "source": [
        "if p_value < 0.05:\n",
        "    print('There is a significant dependency between Region and Manager.')\n",
        "else:\n",
        "    print('There is no significant dependency between Region and Manager.')"
      ],
      "metadata": {
        "colab": {
          "base_uri": "https://localhost:8080/"
        },
        "id": "YYP_o4u_xrcL",
        "outputId": "35c2aaf1-3c08-4079-c5b5-eb930ce7ddfc"
      },
      "execution_count": 14,
      "outputs": [
        {
          "output_type": "stream",
          "name": "stdout",
          "text": [
            "There is no significant dependency between Region and Manager.\n"
          ]
        }
      ]
    }
  ]
}