{
  "nbformat": 4,
  "nbformat_minor": 0,
  "metadata": {
    "colab": {
      "provenance": []
    },
    "kernelspec": {
      "name": "python3",
      "display_name": "Python 3"
    },
    "language_info": {
      "name": "python"
    }
  },
  "cells": [
    {
      "cell_type": "code",
      "execution_count": null,
      "metadata": {
        "id": "JDjcF_zc-prj"
      },
      "outputs": [],
      "source": [
        "import numpy as np\n",
        "import pandas as pd\n",
        "import seaborn as sns\n",
        "import matplotlib.pyplot as plt"
      ]
    },
    {
      "cell_type": "code",
      "source": [
        "#renamed test_lAUu....csv to test.csv outside program\n",
        "test= pd.read_csv('test.csv')\n"
      ],
      "metadata": {
        "id": "0GLr_ghj--21"
      },
      "execution_count": null,
      "outputs": []
    },
    {
      "cell_type": "code",
      "source": [
        "train= pd.read_csv('train.csv')\n"
      ],
      "metadata": {
        "id": "lEwP9H4y_JEv"
      },
      "execution_count": null,
      "outputs": []
    },
    {
      "cell_type": "code",
      "source": [
        "train.shape"
      ],
      "metadata": {
        "id": "RSGYL-vM_Lmx"
      },
      "execution_count": null,
      "outputs": []
    },
    {
      "cell_type": "code",
      "source": [
        "test.shape\n"
      ],
      "metadata": {
        "id": "fjBgneZG_LsF"
      },
      "execution_count": null,
      "outputs": []
    },
    {
      "cell_type": "code",
      "source": [
        "train.head()\n"
      ],
      "metadata": {
        "id": "SQOmRb0J_RpD"
      },
      "execution_count": null,
      "outputs": []
    },
    {
      "cell_type": "code",
      "source": [
        "test"
      ],
      "metadata": {
        "colab": {
          "base_uri": "https://localhost:8080/",
          "height": 165
        },
        "id": "LNY__Z5O_UIe",
        "outputId": "d280a6ce-c0cb-4949-9ffa-d7741d018f2e"
      },
      "execution_count": 1,
      "outputs": [
        {
          "output_type": "error",
          "ename": "NameError",
          "evalue": "ignored",
          "traceback": [
            "\u001b[0;31m---------------------------------------------------------------------------\u001b[0m",
            "\u001b[0;31mNameError\u001b[0m                                 Traceback (most recent call last)",
            "\u001b[0;32m<ipython-input-1-4e1243bd22c6>\u001b[0m in \u001b[0;36m<cell line: 1>\u001b[0;34m()\u001b[0m\n\u001b[0;32m----> 1\u001b[0;31m \u001b[0mtest\u001b[0m\u001b[0;34m\u001b[0m\u001b[0;34m\u001b[0m\u001b[0m\n\u001b[0m",
            "\u001b[0;31mNameError\u001b[0m: name 'test' is not defined"
          ]
        }
      ]
    },
    {
      "cell_type": "code",
      "source": [
        "train"
      ],
      "metadata": {
        "id": "pRXrEtuV_Yxm"
      },
      "execution_count": null,
      "outputs": []
    },
    {
      "cell_type": "code",
      "source": [
        "train.isna().sum()\n"
      ],
      "metadata": {
        "id": "baWhai2q_bZL"
      },
      "execution_count": null,
      "outputs": []
    },
    {
      "cell_type": "code",
      "source": [
        "test.isna().sum()\n"
      ],
      "metadata": {
        "id": "dYk3FoWT_eae"
      },
      "execution_count": null,
      "outputs": []
    },
    {
      "cell_type": "code",
      "source": [
        "test.info()\n"
      ],
      "metadata": {
        "id": "xksBnfIf_jSr"
      },
      "execution_count": null,
      "outputs": []
    },
    {
      "cell_type": "code",
      "source": [
        "train.columns\n"
      ],
      "metadata": {
        "id": "3sHWsP6o_raA"
      },
      "execution_count": null,
      "outputs": []
    },
    {
      "cell_type": "code",
      "source": [
        "for i in ['Loan_ID', 'Gender', 'Married', 'Dependents', 'Education',\n",
        "       'Self_Employed', 'ApplicantIncome', 'CoapplicantIncome', 'LoanAmount',\n",
        "       'Loan_Amount_Term', 'Credit_History', 'Property_Area', 'Loan_Status']:\n",
        "    print(i,'\\n')\n",
        "    print(train[i].value_counts())\n",
        "    print('')\n"
      ],
      "metadata": {
        "id": "fJseEqAu_utV"
      },
      "execution_count": null,
      "outputs": []
    },
    {
      "cell_type": "markdown",
      "source": [
        "Replacing missing values"
      ],
      "metadata": {
        "id": "tfxvcbA4AD6x"
      }
    },
    {
      "cell_type": "code",
      "source": [
        "for i in ['Gender','Married','Dependents', 'Self_Employed', 'Loan_Amount_Term','Credit_History']:\n",
        "    train[i]=train[i].fillna(train[i].mode()[0])\n",
        "train['LoanAmount']= train['LoanAmount'].fillna(train['LoanAmount'].median())"
      ],
      "metadata": {
        "id": "dnUGiNELAEx1"
      },
      "execution_count": null,
      "outputs": []
    },
    {
      "cell_type": "code",
      "source": [
        "train.isna().sum()\n"
      ],
      "metadata": {
        "id": "LgzD9FxLAIR9"
      },
      "execution_count": null,
      "outputs": []
    },
    {
      "cell_type": "code",
      "source": [
        "test.isna().sum()"
      ],
      "metadata": {
        "id": "PFTcUkfzALBV"
      },
      "execution_count": null,
      "outputs": []
    },
    {
      "cell_type": "code",
      "source": [
        "for i in ['Gender','Dependents', 'Self_Employed', 'Loan_Amount_Term','Credit_History']:\n",
        "    test[i]=test[i].fillna(test[i].mode()[0])\n",
        "test['LoanAmount']= test['LoanAmount'].fillna(test['LoanAmount'].median())"
      ],
      "metadata": {
        "id": "5J59NBLOANro"
      },
      "execution_count": null,
      "outputs": []
    },
    {
      "cell_type": "code",
      "source": [
        "test.isna().sum()\n"
      ],
      "metadata": {
        "id": "UzKOjacsAQhT"
      },
      "execution_count": null,
      "outputs": []
    },
    {
      "cell_type": "code",
      "source": [
        "train.shape\n"
      ],
      "metadata": {
        "id": "iSYDR7sRAVto"
      },
      "execution_count": null,
      "outputs": []
    },
    {
      "cell_type": "code",
      "source": [
        "test.shape\n"
      ],
      "metadata": {
        "id": "3ZhXhJtyAZqC"
      },
      "execution_count": null,
      "outputs": []
    },
    {
      "cell_type": "code",
      "source": [],
      "metadata": {
        "id": "xaOel2RAAjJT"
      },
      "execution_count": null,
      "outputs": []
    },
    {
      "cell_type": "markdown",
      "source": [
        "Modelling"
      ],
      "metadata": {
        "id": "yg1V1TFDAlqR"
      }
    },
    {
      "cell_type": "code",
      "source": [
        "train= train.drop('Loan_ID',axis=1)\n",
        "test= test.drop('Loan_ID', axis=1)"
      ],
      "metadata": {
        "id": "OZkXpg9TAmbV"
      },
      "execution_count": null,
      "outputs": []
    },
    {
      "cell_type": "code",
      "source": [
        "from sklearn.preprocessing import LabelEncoder\n",
        "\n",
        "le = LabelEncoder()\n",
        "train['Loan_Status']= le.fit_transform(train['Loan_Status'])"
      ],
      "metadata": {
        "id": "E99K9k2uApW5"
      },
      "execution_count": null,
      "outputs": []
    },
    {
      "cell_type": "code",
      "source": [
        "train=pd.get_dummies(train)\n",
        "test=pd.get_dummies(test)"
      ],
      "metadata": {
        "id": "HHuFzoNZAsXF"
      },
      "execution_count": null,
      "outputs": []
    },
    {
      "cell_type": "code",
      "source": [
        "train.shape\n"
      ],
      "metadata": {
        "id": "Ion-FXaPAvNz"
      },
      "execution_count": null,
      "outputs": []
    },
    {
      "cell_type": "code",
      "source": [
        "test.shape\n"
      ],
      "metadata": {
        "id": "i0vwh84AAz2J"
      },
      "execution_count": null,
      "outputs": []
    },
    {
      "cell_type": "code",
      "source": [
        "X_train=train.drop('Loan_Status', axis=1)\n",
        "y_train=train['Loan_Status']\n",
        "X_test=test"
      ],
      "metadata": {
        "id": "DT9vrJ50A2Lj"
      },
      "execution_count": null,
      "outputs": []
    },
    {
      "cell_type": "code",
      "source": [
        "#modelling\n",
        "from sklearn.ensemble import RandomForestClassifier\n",
        "rf= RandomForestClassifier()\n",
        "rf.fit(X_train, y_train)\n",
        "y_pred= rf.predict(X_test)"
      ],
      "metadata": {
        "id": "rT0lKe3GA7cf"
      },
      "execution_count": null,
      "outputs": []
    },
    {
      "cell_type": "code",
      "source": [
        "y_pred"
      ],
      "metadata": {
        "id": "Hg2Lb8yvA-LV"
      },
      "execution_count": null,
      "outputs": []
    },
    {
      "cell_type": "code",
      "source": [
        "y_train"
      ],
      "metadata": {
        "id": "c7Xj-AcqBBTp"
      },
      "execution_count": null,
      "outputs": []
    },
    {
      "cell_type": "code",
      "source": [
        "read= pd.read_csv('test.csv')\n",
        "read"
      ],
      "metadata": {
        "id": "s1ttmy5CBFpR"
      },
      "execution_count": null,
      "outputs": []
    },
    {
      "cell_type": "code",
      "source": [
        "#saving dataframe\n",
        "df= pd.DataFrame({'Loan_ID': read['Loan_ID'], 'Loan_Status':y_pred})"
      ],
      "metadata": {
        "id": "ADVafomVBH9k"
      },
      "execution_count": null,
      "outputs": []
    },
    {
      "cell_type": "code",
      "source": [
        "df['Loan_Status'] = df['Loan_Status'].replace({1: 'Y', 0: 'N'})\n"
      ],
      "metadata": {
        "id": "KBHUesc_BLFq"
      },
      "execution_count": null,
      "outputs": []
    },
    {
      "cell_type": "code",
      "source": [
        "df"
      ],
      "metadata": {
        "id": "spRBo8HiBOdn"
      },
      "execution_count": null,
      "outputs": []
    },
    {
      "cell_type": "code",
      "source": [
        "df.info()\n"
      ],
      "metadata": {
        "id": "B8JZtzKoBTay"
      },
      "execution_count": null,
      "outputs": []
    },
    {
      "cell_type": "code",
      "source": [
        "df.isna().sum()\n"
      ],
      "metadata": {
        "id": "h2vMtNuxBXsR"
      },
      "execution_count": null,
      "outputs": []
    },
    {
      "cell_type": "code",
      "source": [
        "df['Loan_Status'].value_counts()\n"
      ],
      "metadata": {
        "id": "81J8aNglBa2C"
      },
      "execution_count": null,
      "outputs": []
    },
    {
      "cell_type": "code",
      "source": [
        "#turning dataframe to csv\n",
        "df.to_csv('submission(random forest).csv', index=False)"
      ],
      "metadata": {
        "id": "Ej933nqLBbqZ"
      },
      "execution_count": null,
      "outputs": []
    },
    {
      "cell_type": "code",
      "source": [
        "from sklearn.linear_model import LogisticRegression\n",
        "lr= LogisticRegression(multi_class='multinomial', max_iter=1000)\n",
        "model= lr.fit(X_train, y_train)\n",
        "y_pred = model.predict(X_test)\n",
        "df= pd.DataFrame({'Loan_ID': read['Loan_ID'], 'Loan_Status':y_pred})\n",
        "df['Loan_Status'] = df['Loan_Status'].replace({1: 'Y', 0: 'N'})\n",
        "df.to_csv('submission(Logistic Regression).csv', index=False)"
      ],
      "metadata": {
        "id": "fTJyn8p5Be5m"
      },
      "execution_count": null,
      "outputs": []
    },
    {
      "cell_type": "code",
      "source": [
        "#svm\n",
        "from sklearn.svm import SVC\n",
        "svmclf= SVC(kernel='linear')\n",
        "model = svmclf.fit(X_train, y_train)\n",
        "y_pred = svmclf.predict(X_test)\n",
        "df= pd.DataFrame({'Loan_ID': read['Loan_ID'], 'Loan_Status':y_pred})\n",
        "df['Loan_Status'] = df['Loan_Status'].replace({1: 'Y', 0: 'N'})\n",
        "df.to_csv('submission(svm linear).csv', index=False)"
      ],
      "metadata": {
        "id": "KSmhof7WBiL9"
      },
      "execution_count": null,
      "outputs": []
    },
    {
      "cell_type": "code",
      "source": [
        "from sklearn.svm import SVC\n",
        "svmclf= SVC(kernel='poly')\n",
        "model = svmclf.fit(X_train, y_train)\n",
        "y_pred = svmclf.predict(X_test)\n",
        "df= pd.DataFrame({'Loan_ID': read['Loan_ID'], 'Loan_Status':y_pred})\n",
        "df['Loan_Status'] = df['Loan_Status'].replace({1: 'Y', 0: 'N'})\n",
        "df.to_csv('submission(svm poly).csv', index=False)"
      ],
      "metadata": {
        "id": "M-sfwBoLBmFU"
      },
      "execution_count": null,
      "outputs": []
    },
    {
      "cell_type": "code",
      "source": [
        "from sklearn.svm import SVC\n",
        "svmclf= SVC(kernel='rbf')\n",
        "model = svmclf.fit(X_train, y_train)\n",
        "y_pred = svmclf.predict(X_test)\n",
        "df= pd.DataFrame({'Loan_ID': read['Loan_ID'], 'Loan_Status':y_pred})\n",
        "df['Loan_Status'] = df['Loan_Status'].replace({1: 'Y', 0: 'N'})\n",
        "df.to_csv('submission(svm rbf).csv', index=False)"
      ],
      "metadata": {
        "id": "21xTw1OXBpE_"
      },
      "execution_count": null,
      "outputs": []
    },
    {
      "cell_type": "code",
      "source": [
        "from sklearn.tree import DecisionTreeClassifier\n",
        "dt= DecisionTreeClassifier()\n",
        "dt.fit(X_train, y_train)\n",
        "y_pred= dt.predict(X_test)\n",
        "df= pd.DataFrame({'Loan_ID': read['Loan_ID'], 'Loan_Status':y_pred})\n",
        "df['Loan_Status'] = df['Loan_Status'].replace({1: 'Y', 0: 'N'})\n",
        "df.to_csv('submission(decisiontree).csv', index=False)"
      ],
      "metadata": {
        "id": "xArmv1g5Br_X"
      },
      "execution_count": null,
      "outputs": []
    },
    {
      "cell_type": "code",
      "source": [],
      "metadata": {
        "id": "2Y6sJCiCBuXo"
      },
      "execution_count": null,
      "outputs": []
    },
    {
      "cell_type": "markdown",
      "source": [
        "Hyperparameter Tuning (no need y_test)"
      ],
      "metadata": {
        "id": "UVDDdSKABwvB"
      }
    },
    {
      "cell_type": "code",
      "source": [
        "#randomized search\n",
        "from sklearn.model_selection import RandomizedSearchCV\n",
        "from sklearn.linear_model import LogisticRegression\n",
        "from scipy.stats import uniform, randint\n",
        "\n",
        "param_dist = {\n",
        "    'C': uniform(loc=0, scale=1),\n",
        "    'penalty': ['l1', 'l2'],\n",
        "    'solver': ['liblinear', 'saga'],\n",
        "    'max_iter': randint(100, 10000) #randint for low high values\n",
        "}\n",
        "\n",
        "# Create a Logistic Regression classifier\n",
        "lr = LogisticRegression()\n",
        "\n",
        "# Perform random search\n",
        "random_search = RandomizedSearchCV(\n",
        "    lr, param_distributions=param_dist, n_iter=10, cv=5\n",
        ")\n",
        "\n",
        "# Fit the random search to find the best hyperparameters\n",
        "random_search.fit(X_train, y_train)\n",
        "\n",
        "# Print the best hyperparameters and the associated score\n",
        "print(\"Best Hyperparameters: \", random_search.best_params_)\n",
        "print(\"Best Score: \", random_search.best_score_)"
      ],
      "metadata": {
        "id": "h-d42LKKBxYM"
      },
      "execution_count": null,
      "outputs": []
    },
    {
      "cell_type": "code",
      "source": [
        "from sklearn.model_selection import GridSearchCV\n",
        "from sklearn.linear_model import LogisticRegression\n",
        "from scipy.stats import randint\n",
        "\n",
        "# Define the hyperparameter grid\n",
        "param_grid = {\n",
        "    'C': [0.1, 1, 10],\n",
        "    'penalty': ['l1', 'l2'],\n",
        "    'solver': ['liblinear', 'saga'],\n",
        "    'max_iter': [10000]\n",
        "}\n",
        "\n",
        "# Create a Logistic Regression classifier\n",
        "lr = LogisticRegression()\n",
        "\n",
        "# Perform grid search\n",
        "grid_search = GridSearchCV(\n",
        "    lr, param_grid=param_grid, cv=5\n",
        ")\n",
        "\n",
        "# Fit the grid search to find the best hyperparameters\n",
        "grid_search.fit(X_train, y_train)\n",
        "\n",
        "# Print the best hyperparameters and the associated score\n",
        "print(\"Best Hyperparameters: \", grid_search.best_params_)\n",
        "print(\"Best Score: \", grid_search.best_score_)"
      ],
      "metadata": {
        "id": "o5X4r9LWB6Ys"
      },
      "execution_count": null,
      "outputs": []
    },
    {
      "cell_type": "code",
      "source": [
        "#prediction from grid search, since it is best one\n",
        "best_grid= grid_search.best_estimator_\n",
        "y_pred= best_grid.predict(X_test)\n",
        "df= pd.DataFrame({'Loan_ID': read['Loan_ID'], 'Loan_Status':y_pred})\n",
        "df['Loan_Status'] = df['Loan_Status'].replace({1: 'Y', 0: 'N'})\n",
        "df.to_csv('lr_gridsearch.csv', index=False)"
      ],
      "metadata": {
        "id": "2NVe-MuwB-wa"
      },
      "execution_count": null,
      "outputs": []
    },
    {
      "cell_type": "code",
      "source": [],
      "metadata": {
        "id": "lUNflMrcCB0E"
      },
      "execution_count": null,
      "outputs": []
    },
    {
      "cell_type": "markdown",
      "source": [
        "For RF\n"
      ],
      "metadata": {
        "id": "1-yOmsJFCERv"
      }
    },
    {
      "cell_type": "code",
      "source": [
        "# Define the hyperparameter search space\n",
        "param_dist = {\n",
        "    'n_estimators': randint(100, 1000),\n",
        "    'max_depth': randint(1, 10),\n",
        "    'min_samples_split': randint(2, 10),\n",
        "    'min_samples_leaf': randint(1, 5),\n",
        "    'max_features': ['sqrt', 'log2', None]\n",
        "}\n",
        "\n",
        "# Create a Random Forest classifier\n",
        "rf = RandomForestClassifier()\n",
        "\n",
        "# Perform random search\n",
        "random_search = RandomizedSearchCV(\n",
        "    rf, param_distributions=param_dist, n_iter=10, cv=5\n",
        ")\n",
        "\n",
        "# Fit the random search to find the best hyperparameters\n",
        "random_search.fit(X_train, y_train)\n",
        "\n",
        "# Print the best hyperparameters and the associated score\n",
        "print(\"Best Hyperparameters: \", random_search.best_params_)\n",
        "print(\"Best Score: \", random_search.best_score_)"
      ],
      "metadata": {
        "id": "Aqj08xpECFb3"
      },
      "execution_count": null,
      "outputs": []
    },
    {
      "cell_type": "code",
      "source": [
        "param_grid = {\n",
        "    'n_estimators': [100, 500, 1000],\n",
        "    'max_depth': [None, 5, 10],\n",
        "    'min_samples_split': [2, 5, 10],\n",
        "    'min_samples_leaf': [1, 2, 4],\n",
        "    'max_features': ['sqrt', 'log2']\n",
        "}\n",
        "\n",
        "# Create a Random Forest classifier\n",
        "rf = RandomForestClassifier()\n",
        "\n",
        "# Perform grid search\n",
        "grid_search = GridSearchCV(\n",
        "    rf, param_grid=param_grid, cv=5\n",
        ")\n",
        "\n",
        "# Fit the grid search to find the best hyperparameters\n",
        "grid_search.fit(X_train, y_train)\n",
        "\n",
        "# Print the best hyperparameters and the associated score\n",
        "print(\"Best Hyperparameters: \", grid_search.best_params_)\n",
        "print(\"Best Score: \", grid_search.best_score_)"
      ],
      "metadata": {
        "id": "k0dEPiSqCIkg"
      },
      "execution_count": null,
      "outputs": []
    },
    {
      "cell_type": "code",
      "source": [
        "best_grid= grid_search.best_estimator_\n",
        "y_pred= best_grid.predict(X_test)\n",
        "df= pd.DataFrame({'Loan_ID': read['Loan_ID'], 'Loan_Status':y_pred})\n",
        "df['Loan_Status'] = df['Loan_Status'].replace({1: 'Y', 0: 'N'})\n",
        "df.to_csv('rf_gridsearch.csv', index=False)"
      ],
      "metadata": {
        "id": "vNZBCa_WCMHI"
      },
      "execution_count": null,
      "outputs": []
    },
    {
      "cell_type": "markdown",
      "source": [
        "SVM"
      ],
      "metadata": {
        "id": "hj4V6gjsCPXz"
      }
    },
    {
      "cell_type": "code",
      "source": [
        "# Define the hyperparameter grid\n",
        "param_grid = {\n",
        "    'C': [0.1, 1, 10, 100],\n",
        "    'kernel': ['rbf']\n",
        "}\n",
        "\n",
        "# Create an SVM classifier\n",
        "svm = SVC()\n",
        "\n",
        "# Perform grid search\n",
        "grid_search = GridSearchCV(\n",
        "    svm, param_grid=param_grid, cv=5\n",
        ")\n",
        "\n",
        "# Fit the grid search to find the best hyperparameters\n",
        "grid_search.fit(X_train, y_train)\n",
        "\n",
        "# Print the best hyperparameters and the associated score\n",
        "print(\"Best Hyperparameters: \", grid_search.best_params_)\n",
        "print(\"Best Score: \", grid_search.best_score_)"
      ],
      "metadata": {
        "id": "SHQ-ImZhCRgZ"
      },
      "execution_count": null,
      "outputs": []
    },
    {
      "cell_type": "code",
      "source": [
        "# Define the hyperparameter grid\n",
        "param_grid = {\n",
        "    'C': [0.1, 1, 10, 100],\n",
        "    'kernel': ['linear']\n",
        "}\n",
        "\n",
        "# Create an SVM classifier\n",
        "svm = SVC()\n",
        "\n",
        "# Perform grid search\n",
        "grid_search = GridSearchCV(\n",
        "    svm, param_grid=param_grid, cv=5\n",
        ")\n",
        "\n",
        "# Fit the grid search to find the best hyperparameters\n",
        "grid_search.fit(X_train, y_train)\n",
        "\n",
        "# Print the best hyperparameters and the associated score\n",
        "print(\"Best Hyperparameters: \", grid_search.best_params_)\n",
        "print(\"Best Score: \", grid_search.best_score_)"
      ],
      "metadata": {
        "id": "2C82aQZWCVNf"
      },
      "execution_count": null,
      "outputs": []
    },
    {
      "cell_type": "code",
      "source": [],
      "metadata": {
        "id": "uvLQydgiCX6X"
      },
      "execution_count": null,
      "outputs": []
    }
  ]
}